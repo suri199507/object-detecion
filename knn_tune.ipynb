{
 "cells": [
  {
   "cell_type": "code",
   "execution_count": 3,
   "metadata": {},
   "outputs": [],
   "source": [
    "from sklearn.neighbors import KNeighborsClassifier\n",
    "from sklearn.model_selection import GridSearchCV\n"
   ]
  },
  {
   "cell_type": "code",
   "execution_count": 2,
   "metadata": {},
   "outputs": [],
   "source": [
    "from sklearn.model_selection import RandomizedSearchCV\n",
    "from sklearn.model_selection import GridSearchCV\n",
    "from sklearn.model_selection import train_test_split\n",
    "from imutils import paths\n",
    "import numpy as np\n",
    "import argparse\n",
    "import imutils\n",
    "import time\n",
    "import cv2\n",
    "import os\n"
   ]
  },
  {
   "cell_type": "code",
   "execution_count": 4,
   "metadata": {},
   "outputs": [],
   "source": [
    "def extract_color_historgram(image,bins=(8,8,8)):\n",
    "    # extract a 3D color histogram from the HSV color space using\n",
    "    # the supplied number of `bins` per channel\n",
    "    hsv = cv2.cvtColor(image, cv2.COLOR_BGR2HSV)\n",
    "    hist = cv2.calcHist([hsv], [0, 1, 2], None, bins,\n",
    "                        [0, 180, 0, 256, 0, 256])\n",
    " # handle normilizing histogram we using opencv\n",
    "    if imutils.is_cv2():\n",
    "        hist = cv2.normalize(hist)\n",
    "        \n",
    "        # otherwise, perform \"in place\" normalization in OpenCV 3 (I\n",
    "# personally hate the way this is done\n",
    "    else:\n",
    "        cv2.normalize(hist, hist)\n",
    " \n",
    " # return the flattened histogram as the feature vector\n",
    "    return hist.flatten()\n"
   ]
  },
  {
   "cell_type": "code",
   "execution_count": 7,
   "metadata": {},
   "outputs": [
    {
     "name": "stderr",
     "output_type": "stream",
     "text": [
      "usage: ipykernel_launcher.py [-h] -d DATASET [-j JOBS]\n",
      "ipykernel_launcher.py: error: the following arguments are required: -d/--dataset\n"
     ]
    },
    {
     "ename": "SystemExit",
     "evalue": "2",
     "output_type": "error",
     "traceback": [
      "An exception has occurred, use %tb to see the full traceback.\n",
      "\u001b[0;31mSystemExit\u001b[0m\u001b[0;31m:\u001b[0m 2\n"
     ]
    }
   ],
   "source": [
    "\n",
    "ap = argparse.ArgumentParser()\n",
    "ap.add_argument(\"-d\", \"--dataset\", required=True,\n",
    "   help=\"path to input dataset\")\n",
    "ap.add_argument(\"-j\", \"--jobs\", type=int, default=-1,\n",
    "   help=\"# of jobs for k-NN distance (-1 uses all available cores)\")\n",
    "args = vars(ap.parse_args())\n",
    "\n",
    "# grab the list of images that we'll be describing\n",
    "print(\"[INFO] describing images...\")\n",
    "imagePaths = list(paths.list_images(args[\"\"]))\n",
    "\n",
    "# initialize the data matrix and labels list\n",
    "data = []\n",
    "labels = []"
   ]
  },
  {
   "cell_type": "code",
   "execution_count": 8,
   "metadata": {},
   "outputs": [
    {
     "ename": "NameError",
     "evalue": "name 'imagePaths' is not defined",
     "output_type": "error",
     "traceback": [
      "\u001b[0;31m---------------------------------------------------------------------------\u001b[0m",
      "\u001b[0;31mNameError\u001b[0m                                 Traceback (most recent call last)",
      "\u001b[0;32m<ipython-input-8-b4b6ec2bb81d>\u001b[0m in \u001b[0;36m<module>\u001b[0;34m\u001b[0m\n\u001b[1;32m      2\u001b[0m \u001b[0;34m\u001b[0m\u001b[0m\n\u001b[1;32m      3\u001b[0m \u001b[0;31m# loop over the input images\u001b[0m\u001b[0;34m\u001b[0m\u001b[0;34m\u001b[0m\u001b[0;34m\u001b[0m\u001b[0m\n\u001b[0;32m----> 4\u001b[0;31m \u001b[0;32mfor\u001b[0m \u001b[0;34m(\u001b[0m\u001b[0mi\u001b[0m\u001b[0;34m,\u001b[0m \u001b[0mimagePath\u001b[0m\u001b[0;34m)\u001b[0m \u001b[0;32min\u001b[0m \u001b[0menumerate\u001b[0m\u001b[0;34m(\u001b[0m\u001b[0mimagePaths\u001b[0m\u001b[0;34m)\u001b[0m\u001b[0;34m:\u001b[0m\u001b[0;34m\u001b[0m\u001b[0;34m\u001b[0m\u001b[0m\n\u001b[0m\u001b[1;32m      5\u001b[0m         \u001b[0;31m# load the image and extract the class label (assuming that our\u001b[0m\u001b[0;34m\u001b[0m\u001b[0;34m\u001b[0m\u001b[0;34m\u001b[0m\u001b[0m\n\u001b[1;32m      6\u001b[0m         \u001b[0;31m# path as the format: /path/to/dataset/{class}.{image_num}.jpg\u001b[0m\u001b[0;34m\u001b[0m\u001b[0;34m\u001b[0m\u001b[0;34m\u001b[0m\u001b[0m\n",
      "\u001b[0;31mNameError\u001b[0m: name 'imagePaths' is not defined"
     ]
    }
   ],
   "source": [
    "\n",
    "\n",
    "# loop over the input images\n",
    "for (i, imagePath) in enumerate(imagePaths):\n",
    "\t# load the image and extract the class label (assuming that our\n",
    "\t# path as the format: /path/to/dataset/{class}.{image_num}.jpg\n",
    "\timage = cv2.imread(imagePath)\n",
    "\tlabel = imagePath.split(os.path.sep)[-1].split(\".\")[0]\n",
    "\n",
    "\t# extract a color histogram from the image, then update the\n",
    "\t# data matrix and labels list\n",
    "\thist = extract_color_histogram(image)\n",
    "\tdata.append(hist)\n",
    "\tlabels.append(label)\n",
    "\n",
    "\t# show an update every 1,000 images\n",
    "\tif i > 0 and i % 1000 == 0:\n",
    "\t\tprint(\"[INFO] processed {}/{}\".format(i, len(imagePaths)))\n",
    "\n",
    "# partition the data into training and testing splits, using 75%\n",
    "# of the data for training and the remaining 25% for testing\n",
    "print(\"[INFO] constructing training/testing split...\")\n",
    "(trainData, testData, trainLabels, testLabels) = train_test_split(\n",
    "\tdata, labels, test_size=0.25, random_state=42)\n",
    "\n",
    "# construct the set of hyperparameters to tune\n",
    "params = {\"n_neighbors\": np.arange(1, 31, 2),\n",
    "\t\"metric\": [\"euclidean\", \"cityblock\"]}\n",
    "\n",
    "# tune the hyperparameters via a cross-validated grid search\n",
    "print(\"[INFO] tuning hyperparameters via grid search\")\n",
    "model = KNeighborsClassifier(n_jobs=args[\"jobs\"])\n",
    "grid = GridSearchCV(model, params)\n",
    "start = time.time()\n",
    "grid.fit(trainData, trainLabels)\n",
    "\n",
    "# evaluate the best grid searched model on the testing data\n",
    "print(\"[INFO] grid search took {:.2f} seconds\".format(\n",
    "\ttime.time() - start))\n",
    "acc = grid.score(testData, testLabels)\n",
    "print(\"[INFO] grid search accuracy: {:.2f}%\".format(acc * 100))\n",
    "print(\"[INFO] grid search best parameters: {}\".format(\n",
    "\tgrid.best_params_))\n",
    "\n",
    "# tune the hyperparameters via a randomized search\n",
    "grid = RandomizedSearchCV(model, params)\n",
    "start = time.time()\n",
    "grid.fit(trainData, trainLabels)\n",
    "\n",
    "# evaluate the best randomized searched model on the testing\n",
    "# data\n",
    "print(\"[INFO] randomized search took {:.2f} seconds\".format(\n",
    "\ttime.time() - start))\n",
    "acc = grid.score(testData, testLabels)\n",
    "print(\"[INFO] grid search accuracy: {:.2f}%\".format(acc * 100))\n",
    "print(\"[INFO] randomized search best parameters: {}\".format(\n",
    "\tgrid.best_params_))"
   ]
  },
  {
   "cell_type": "code",
   "execution_count": null,
   "metadata": {},
   "outputs": [],
   "source": []
  }
 ],
 "metadata": {
  "kernelspec": {
   "display_name": "Python 3",
   "language": "python",
   "name": "python3"
  },
  "language_info": {
   "codemirror_mode": {
    "name": "ipython",
    "version": 3
   },
   "file_extension": ".py",
   "mimetype": "text/x-python",
   "name": "python",
   "nbconvert_exporter": "python",
   "pygments_lexer": "ipython3",
   "version": "3.7.1"
  }
 },
 "nbformat": 4,
 "nbformat_minor": 2
}
