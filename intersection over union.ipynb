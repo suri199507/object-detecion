{
 "cells": [
  {
   "cell_type": "code",
   "execution_count": 3,
   "metadata": {},
   "outputs": [],
   "source": [
    "\n",
    "from collections import namedtuple\n",
    "import numpy as np\n",
    "import cv2\n",
    "\n",
    "# define the `Detection` object\n",
    "Detection = namedtuple(\"Detection\", [\"Downloads\", \"gt\", \"pred\"])\n",
    "\n",
    "def bb_intersection_over_union(boxA, boxB):\n",
    "    # determine the (x, y)-coordinates of the intersection rectangle\n",
    "    xA = max(boxA[0], boxB[0])\n",
    "    yA = max(boxA[1], boxB[1])\n",
    "    xB = min(boxA[2], boxB[2])\n",
    "    yB = min(boxA[3], boxB[3])\n",
    "\n",
    "    # compute the area of intersection rectangle\n",
    "    interArea = (xB - xA) * (yB - yA)\n",
    "\n",
    "    # compute the area of both the prediction and ground-truth\n",
    "    # rectangles\n",
    "    boxAArea = (boxA[2] - boxA[0]) * (boxA[3] - boxA[1])\n",
    "    boxBArea = (boxB[2] - boxB[0]) * (boxB[3] - boxB[1])\n",
    "\n",
    "    # compute the intersection over union by taking the intersection\n",
    "    # area and dividing it by the sum of prediction + ground-truth\n",
    "    # areas - the interesection area\n",
    "    iou = interArea / float(boxAArea + boxBArea - interArea)\n",
    "\n",
    "    # return the intersection over union value\n",
    "    return iou\n"
   ]
  },
  {
   "cell_type": "code",
   "execution_count": 4,
   "metadata": {},
   "outputs": [
    {
     "name": "stdout",
     "output_type": "stream",
     "text": [
      "sunflower.jpg: 0.7958\n",
      "banana.jpg: 0.7878\n"
     ]
    },
    {
     "ename": "error",
     "evalue": "OpenCV(4.0.0) /io/opencv/modules/highgui/src/window.cpp:350: error: (-215:Assertion failed) size.width>0 && size.height>0 in function 'imshow'\n",
     "output_type": "error",
     "traceback": [
      "\u001b[0;31m---------------------------------------------------------------------------\u001b[0m",
      "\u001b[0;31merror\u001b[0m                                     Traceback (most recent call last)",
      "\u001b[0;32m<ipython-input-4-b8b70dcdde1b>\u001b[0m in \u001b[0;36m<module>\u001b[0;34m\u001b[0m\n\u001b[1;32m     26\u001b[0m \u001b[0;34m\u001b[0m\u001b[0m\n\u001b[1;32m     27\u001b[0m    \u001b[0;31m# show the output image\u001b[0m\u001b[0;34m\u001b[0m\u001b[0;34m\u001b[0m\u001b[0;34m\u001b[0m\u001b[0m\n\u001b[0;32m---> 28\u001b[0;31m     \u001b[0mcv2\u001b[0m\u001b[0;34m.\u001b[0m\u001b[0mimshow\u001b[0m\u001b[0;34m(\u001b[0m\u001b[0;34m\"Image\"\u001b[0m\u001b[0;34m,\u001b[0m \u001b[0mimage\u001b[0m\u001b[0;34m)\u001b[0m\u001b[0;34m\u001b[0m\u001b[0;34m\u001b[0m\u001b[0m\n\u001b[0m\u001b[1;32m     29\u001b[0m     \u001b[0mcv2\u001b[0m\u001b[0;34m.\u001b[0m\u001b[0mwaitKey\u001b[0m\u001b[0;34m(\u001b[0m\u001b[0;36m0\u001b[0m\u001b[0;34m)\u001b[0m\u001b[0;34m\u001b[0m\u001b[0;34m\u001b[0m\u001b[0m\n",
      "\u001b[0;31merror\u001b[0m: OpenCV(4.0.0) /io/opencv/modules/highgui/src/window.cpp:350: error: (-215:Assertion failed) size.width>0 && size.height>0 in function 'imshow'\n"
     ]
    }
   ],
   "source": [
    "# define the list of example detections\n",
    "examples = [\n",
    "     Detection(\"sunflower.jpg\", [39, 63, 203, 112], [54, 66, 198, 114]),\n",
    "     Detection(\"banana.jpg\", [49, 75, 203, 125], [42, 78, 186, 126]),\n",
    "     Detection(\"images.jpg\", [31, 69, 201, 125], [18, 63, 235, 135]),\n",
    "     Detection(\"car.jpeg\", [50, 72, 197, 121], [54, 72, 198, 120]),\n",
    "     Detection(\"car1.jpeg\", [35, 51, 196, 110], [36, 60, 180, 108])]\n",
    "\n",
    "# loop over the example detections\n",
    "for detection in examples:\n",
    "    # load the image\n",
    "    image = cv2.imread(detection.Downloads)\n",
    "\n",
    "    # draw the ground-truth bounding box along with the predicted\n",
    "    # bounding box\n",
    "    cv2.rectangle(image, tuple(detection.gt[:2]),  \n",
    "        tuple(detection.gt[2:]), (0, 255, 0), 2)\n",
    "    cv2.rectangle(image, tuple(detection.pred[:2]), \n",
    "        tuple(detection.pred[2:]), (0, 0, 255), 2)\n",
    "\n",
    "   # compute the intersection over union and display it\n",
    "    iou = bb_intersection_over_union(detection.gt, detection.pred)\n",
    "    cv2.putText(image, \"IoU: {:.4f}\".format(iou), (10, 30),\n",
    "    cv2.FONT_HERSHEY_SIMPLEX, 0.6, (0, 255, 0), 2)\n",
    "    print(\"{}: {:.4f}\".format(detection.Downloads, iou))\n",
    "\n",
    "   # show the output image\n",
    "    cv2.imshow(\"Image\", image)\n",
    "    cv2.waitKey(0)"
   ]
  },
  {
   "cell_type": "code",
   "execution_count": null,
   "metadata": {},
   "outputs": [],
   "source": []
  }
 ],
 "metadata": {
  "kernelspec": {
   "display_name": "Python 3",
   "language": "python",
   "name": "python3"
  },
  "language_info": {
   "codemirror_mode": {
    "name": "ipython",
    "version": 3
   },
   "file_extension": ".py",
   "mimetype": "text/x-python",
   "name": "python",
   "nbconvert_exporter": "python",
   "pygments_lexer": "ipython3",
   "version": "3.7.1"
  }
 },
 "nbformat": 4,
 "nbformat_minor": 2
}
